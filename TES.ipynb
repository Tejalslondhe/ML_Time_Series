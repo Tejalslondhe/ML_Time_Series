{
 "cells": [
  {
   "cell_type": "markdown",
   "metadata": {},
   "source": [
    "# Triple Exponential Model"
   ]
  },
  {
   "cell_type": "code",
   "execution_count": 1,
   "metadata": {},
   "outputs": [],
   "source": [
    "import os\n",
    "import numpy as np\n",
    "import pandas as pd\n",
    "import matplotlib.pyplot as plt\n",
    "from statsmodels.tsa.api import ExponentialSmoothing, SimpleExpSmoothing, Holt"
   ]
  },
  {
   "cell_type": "code",
   "execution_count": 2,
   "metadata": {
    "scrolled": true
   },
   "outputs": [
    {
     "data": {
      "text/html": [
       "<div>\n",
       "<style scoped>\n",
       "    .dataframe tbody tr th:only-of-type {\n",
       "        vertical-align: middle;\n",
       "    }\n",
       "\n",
       "    .dataframe tbody tr th {\n",
       "        vertical-align: top;\n",
       "    }\n",
       "\n",
       "    .dataframe thead th {\n",
       "        text-align: right;\n",
       "    }\n",
       "</style>\n",
       "<table border=\"1\" class=\"dataframe\">\n",
       "  <thead>\n",
       "    <tr style=\"text-align: right;\">\n",
       "      <th></th>\n",
       "      <th>Date</th>\n",
       "      <th>Passenger</th>\n",
       "    </tr>\n",
       "  </thead>\n",
       "  <tbody>\n",
       "    <tr>\n",
       "      <th>0</th>\n",
       "      <td>01-01-1949</td>\n",
       "      <td>112</td>\n",
       "    </tr>\n",
       "    <tr>\n",
       "      <th>1</th>\n",
       "      <td>01-02-1949</td>\n",
       "      <td>118</td>\n",
       "    </tr>\n",
       "    <tr>\n",
       "      <th>2</th>\n",
       "      <td>01-03-1949</td>\n",
       "      <td>132</td>\n",
       "    </tr>\n",
       "  </tbody>\n",
       "</table>\n",
       "</div>"
      ],
      "text/plain": [
       "         Date  Passenger\n",
       "0  01-01-1949        112\n",
       "1  01-02-1949        118\n",
       "2  01-03-1949        132"
      ]
     },
     "execution_count": 2,
     "metadata": {},
     "output_type": "execute_result"
    }
   ],
   "source": [
    "data=pd.read_csv(r\"C:\\Users\\User\\Desktop\\Python Code\\Time Series - IMS Student\\Python\\AirPassenger.csv\")\n",
    "data.head(3)"
   ]
  },
  {
   "cell_type": "code",
   "execution_count": 3,
   "metadata": {
    "scrolled": true
   },
   "outputs": [
    {
     "data": {
      "image/png": "[encoded data removed]",
      "text/plain": [
       "<Figure size 432x288 with 1 Axes>"
      ]
     },
     "metadata": {
      "needs_background": "light"
     },
     "output_type": "display_data"
    }
   ],
   "source": [
    "data.plot.line(x = 'Date',y = 'Passenger')\n",
    "plt.show()"
   ]
  },
  {
   "cell_type": "code",
   "execution_count": 4,
   "metadata": {},
   "outputs": [
    {
     "data": {
      "text/html": [
       "<div>\n",
       "<style scoped>\n",
       "    .dataframe tbody tr th:only-of-type {\n",
       "        vertical-align: middle;\n",
       "    }\n",
       "\n",
       "    .dataframe tbody tr th {\n",
       "        vertical-align: top;\n",
       "    }\n",
       "\n",
       "    .dataframe thead th {\n",
       "        text-align: right;\n",
       "    }\n",
       "</style>\n",
       "<table border=\"1\" class=\"dataframe\">\n",
       "  <thead>\n",
       "    <tr style=\"text-align: right;\">\n",
       "      <th></th>\n",
       "      <th>Passenger</th>\n",
       "    </tr>\n",
       "    <tr>\n",
       "      <th>Date</th>\n",
       "      <th></th>\n",
       "    </tr>\n",
       "  </thead>\n",
       "  <tbody>\n",
       "    <tr>\n",
       "      <th>01-01-1949</th>\n",
       "      <td>112</td>\n",
       "    </tr>\n",
       "    <tr>\n",
       "      <th>01-02-1949</th>\n",
       "      <td>118</td>\n",
       "    </tr>\n",
       "    <tr>\n",
       "      <th>01-03-1949</th>\n",
       "      <td>132</td>\n",
       "    </tr>\n",
       "    <tr>\n",
       "      <th>01-04-1949</th>\n",
       "      <td>129</td>\n",
       "    </tr>\n",
       "    <tr>\n",
       "      <th>01-05-1949</th>\n",
       "      <td>121</td>\n",
       "    </tr>\n",
       "  </tbody>\n",
       "</table>\n",
       "</div>"
      ],
      "text/plain": [
       "            Passenger\n",
       "Date                 \n",
       "01-01-1949        112\n",
       "01-02-1949        118\n",
       "01-03-1949        132\n",
       "01-04-1949        129\n",
       "01-05-1949        121"
      ]
     },
     "execution_count": 4,
     "metadata": {},
     "output_type": "execute_result"
    }
   ],
   "source": [
    "data2=data.set_index(\"Date\")\n",
    "data2.head()"
   ]
  },
  {
   "cell_type": "markdown",
   "metadata": {},
   "source": [
    "abc=np.array([0.88,0.93,1.04,1.02,0.96,1.07,1.17,1.17,1.07,0.94,0.82,0.93])"
   ]
  },
  {
   "cell_type": "markdown",
   "metadata": {},
   "source": [
    "#### Auto Model"
   ]
  },
  {
   "cell_type": "code",
   "execution_count": 5,
   "metadata": {
    "scrolled": false
   },
   "outputs": [
    {
     "name": "stderr",
     "output_type": "stream",
     "text": [
      "C:\\Users\\User\\anaconda3\\lib\\site-packages\\statsmodels\\tsa\\base\\tsa_model.py:581: ValueWarning: A date index has been provided, but it has no associated frequency information and so will be ignored when e.g. forecasting.\n",
      "  warnings.warn('A date index has been provided, but it has no'\n",
      "C:\\Users\\User\\anaconda3\\lib\\site-packages\\statsmodels\\tsa\\holtwinters\\model.py:427: FutureWarning: After 0.13 initialization must be handled at model creation\n",
      "  warnings.warn(\n"
     ]
    },
    {
     "data": {
      "text/plain": [
       "{'smoothing_level': 0.3185898660259786,\n",
       " 'smoothing_trend': 2.382517469297811e-09,\n",
       " 'smoothing_seasonal': 0.6013524400244354,\n",
       " 'damping_trend': nan,\n",
       " 'initial_level': 197.62286615433473,\n",
       " 'initial_trend': 4.646997623764819,\n",
       " 'initial_seasons': array([0.55084182, 0.57930085, 0.63970012, 0.6102315 , 0.56967126,\n",
       "        0.62211857, 0.67648936, 0.66818491, 0.60919276, 0.53142518,\n",
       "        0.4705981 , 0.53898757]),\n",
       " 'use_boxcox': False,\n",
       " 'lamda': None,\n",
       " 'remove_bias': False}"
      ]
     },
     "execution_count": 5,
     "metadata": {},
     "output_type": "execute_result"
    }
   ],
   "source": [
    "model2 = ExponentialSmoothing(data2,trend='add',seasonal='mul',seasonal_periods=12).fit()\n",
    "model2.params\n",
    "          # initial_seasons=np.array([0.88,0.93,1.04,1.02,0.96,1.07,1.17,1.17,1.07,0.94,0.82,0.93]))"
   ]
  },
  {
   "cell_type": "code",
   "execution_count": 6,
   "metadata": {},
   "outputs": [
    {
     "data": {
      "text/plain": [
       "Date\n",
       "01-01-1949    111.418700\n",
       "01-02-1949    120.061878\n",
       "01-03-1949    134.827114\n",
       "01-04-1949    130.592674\n",
       "01-05-1949    124.086150\n",
       "                 ...    \n",
       "01-08-1960    625.009601\n",
       "01-09-1960    506.745061\n",
       "01-10-1960    443.213423\n",
       "01-11-1960    393.494076\n",
       "01-12-1960    432.351430\n",
       "Length: 144, dtype: float64"
      ]
     },
     "execution_count": 6,
     "metadata": {},
     "output_type": "execute_result"
    }
   ],
   "source": [
    "model2.fittedvalues"
   ]
  },
  {
   "cell_type": "code",
   "execution_count": 7,
   "metadata": {},
   "outputs": [
    {
     "data": {
      "text/html": [
       "<div>\n",
       "<style scoped>\n",
       "    .dataframe tbody tr th:only-of-type {\n",
       "        vertical-align: middle;\n",
       "    }\n",
       "\n",
       "    .dataframe tbody tr th {\n",
       "        vertical-align: top;\n",
       "    }\n",
       "\n",
       "    .dataframe thead th {\n",
       "        text-align: right;\n",
       "    }\n",
       "</style>\n",
       "<table border=\"1\" class=\"dataframe\">\n",
       "  <thead>\n",
       "    <tr style=\"text-align: right;\">\n",
       "      <th></th>\n",
       "      <th>Actual</th>\n",
       "      <th>Level</th>\n",
       "      <th>Trend</th>\n",
       "      <th>Seasonal</th>\n",
       "      <th>Forecast</th>\n",
       "    </tr>\n",
       "  </thead>\n",
       "  <tbody>\n",
       "    <tr>\n",
       "      <th>0</th>\n",
       "      <td>112.0</td>\n",
       "      <td>202.606070</td>\n",
       "      <td>4.646998</td>\n",
       "      <td>0.552570</td>\n",
       "      <td>111.418700</td>\n",
       "    </tr>\n",
       "    <tr>\n",
       "      <th>1</th>\n",
       "      <td>118.0</td>\n",
       "      <td>206.119126</td>\n",
       "      <td>4.646998</td>\n",
       "      <td>0.573318</td>\n",
       "      <td>120.061878</td>\n",
       "    </tr>\n",
       "    <tr>\n",
       "      <th>2</th>\n",
       "      <td>132.0</td>\n",
       "      <td>209.358136</td>\n",
       "      <td>4.646998</td>\n",
       "      <td>0.631634</td>\n",
       "      <td>134.827114</td>\n",
       "    </tr>\n",
       "    <tr>\n",
       "      <th>3</th>\n",
       "      <td>129.0</td>\n",
       "      <td>213.173630</td>\n",
       "      <td>4.646998</td>\n",
       "      <td>0.605756</td>\n",
       "      <td>130.592674</td>\n",
       "    </tr>\n",
       "    <tr>\n",
       "      <th>4</th>\n",
       "      <td>121.0</td>\n",
       "      <td>216.094691</td>\n",
       "      <td>4.646998</td>\n",
       "      <td>0.561151</td>\n",
       "      <td>124.086150</td>\n",
       "    </tr>\n",
       "    <tr>\n",
       "      <th>...</th>\n",
       "      <td>...</td>\n",
       "      <td>...</td>\n",
       "      <td>...</td>\n",
       "      <td>...</td>\n",
       "      <td>...</td>\n",
       "    </tr>\n",
       "    <tr>\n",
       "      <th>139</th>\n",
       "      <td>606.0</td>\n",
       "      <td>829.210474</td>\n",
       "      <td>4.646998</td>\n",
       "      <td>0.732785</td>\n",
       "      <td>625.009601</td>\n",
       "    </tr>\n",
       "    <tr>\n",
       "      <th>140</th>\n",
       "      <td>508.0</td>\n",
       "      <td>834.515367</td>\n",
       "      <td>4.646998</td>\n",
       "      <td>0.608617</td>\n",
       "      <td>506.745061</td>\n",
       "    </tr>\n",
       "    <tr>\n",
       "      <th>141</th>\n",
       "      <td>461.0</td>\n",
       "      <td>849.891320</td>\n",
       "      <td>4.646998</td>\n",
       "      <td>0.540908</td>\n",
       "      <td>443.213423</td>\n",
       "    </tr>\n",
       "    <tr>\n",
       "      <th>142</th>\n",
       "      <td>390.0</td>\n",
       "      <td>852.120867</td>\n",
       "      <td>4.646998</td>\n",
       "      <td>0.458017</td>\n",
       "      <td>393.494076</td>\n",
       "    </tr>\n",
       "    <tr>\n",
       "      <th>143</th>\n",
       "      <td>432.0</td>\n",
       "      <td>856.545995</td>\n",
       "      <td>4.646998</td>\n",
       "      <td>0.504384</td>\n",
       "      <td>432.351430</td>\n",
       "    </tr>\n",
       "  </tbody>\n",
       "</table>\n",
       "<p>144 rows × 5 columns</p>\n",
       "</div>"
      ],
      "text/plain": [
       "     Actual       Level     Trend  Seasonal    Forecast\n",
       "0     112.0  202.606070  4.646998  0.552570  111.418700\n",
       "1     118.0  206.119126  4.646998  0.573318  120.061878\n",
       "2     132.0  209.358136  4.646998  0.631634  134.827114\n",
       "3     129.0  213.173630  4.646998  0.605756  130.592674\n",
       "4     121.0  216.094691  4.646998  0.561151  124.086150\n",
       "..      ...         ...       ...       ...         ...\n",
       "139   606.0  829.210474  4.646998  0.732785  625.009601\n",
       "140   508.0  834.515367  4.646998  0.608617  506.745061\n",
       "141   461.0  849.891320  4.646998  0.540908  443.213423\n",
       "142   390.0  852.120867  4.646998  0.458017  393.494076\n",
       "143   432.0  856.545995  4.646998  0.504384  432.351430\n",
       "\n",
       "[144 rows x 5 columns]"
      ]
     },
     "execution_count": 7,
     "metadata": {},
     "output_type": "execute_result"
    }
   ],
   "source": [
    "df = pd.DataFrame(\n",
    "    np.c_[data.Passenger, model2.level, model2.trend, model2.season,model2.fittedvalues],\n",
    "    columns=[\"Actual\",\"Level\",\"Trend\",\"Seasonal\",\"Forecast\"])\n",
    "df"
   ]
  },
  {
   "cell_type": "markdown",
   "metadata": {},
   "source": [
    "### Auto model "
   ]
  },
  {
   "cell_type": "code",
   "execution_count": 8,
   "metadata": {},
   "outputs": [
    {
     "name": "stderr",
     "output_type": "stream",
     "text": [
      "C:\\Users\\User\\anaconda3\\lib\\site-packages\\statsmodels\\tsa\\base\\tsa_model.py:376: ValueWarning: No supported index is available. Prediction results will be given with an integer index beginning at `start`.\n",
      "  warnings.warn('No supported index is available.'\n"
     ]
    },
    {
     "data": {
      "text/plain": [
       "144    445.242731\n",
       "145    418.225788\n",
       "146    465.310384\n",
       "147    494.952052\n",
       "148    505.476789\n",
       "149    573.313810\n",
       "150    663.597881\n",
       "151    654.905667\n",
       "152    546.762510\n",
       "153    488.448335\n",
       "154    415.724888\n",
       "155    460.379684\n",
       "156    474.073090\n",
       "157    445.161401\n",
       "158    495.118474\n",
       "159    526.490642\n",
       "160    537.515892\n",
       "161    609.461756\n",
       "162    705.219627\n",
       "163    695.768644\n",
       "164    580.701403\n",
       "165    518.611499\n",
       "166    441.265723\n",
       "167    488.519900\n",
       "dtype: float64"
      ]
     },
     "execution_count": 8,
     "metadata": {},
     "output_type": "execute_result"
    }
   ],
   "source": [
    "Forecast2 = model2.forecast(24)\n",
    "Forecast2"
   ]
  },
  {
   "cell_type": "markdown",
   "metadata": {},
   "source": [
    "#### Forecast Plot"
   ]
  },
  {
   "cell_type": "code",
   "execution_count": 9,
   "metadata": {},
   "outputs": [
    {
     "data": {
      "text/plain": [
       "<AxesSubplot:xlabel='Date'>"
      ]
     },
     "execution_count": 9,
     "metadata": {},
     "output_type": "execute_result"
    },
    {
     "data": {
      "image/png": "[encoded data removed]",
      "text/plain": [
       "<Figure size 432x288 with 1 Axes>"
      ]
     },
     "metadata": {
      "needs_background": "light"
     },
     "output_type": "display_data"
    }
   ],
   "source": [
    "# plot\n",
    "Forecast2.plot(marker='o', color='green', legend=True)\n",
    "model2.fittedvalues.plot(marker='o',  color='blue')"
   ]
  },
  {
   "cell_type": "code",
   "execution_count": 10,
   "metadata": {},
   "outputs": [
    {
     "data": {
      "text/html": [
       "<div>\n",
       "<style scoped>\n",
       "    .dataframe tbody tr th:only-of-type {\n",
       "        vertical-align: middle;\n",
       "    }\n",
       "\n",
       "    .dataframe tbody tr th {\n",
       "        vertical-align: top;\n",
       "    }\n",
       "\n",
       "    .dataframe thead th {\n",
       "        text-align: right;\n",
       "    }\n",
       "</style>\n",
       "<table border=\"1\" class=\"dataframe\">\n",
       "  <thead>\n",
       "    <tr style=\"text-align: right;\">\n",
       "      <th></th>\n",
       "      <th>Passenger</th>\n",
       "      <th>Forecast</th>\n",
       "    </tr>\n",
       "    <tr>\n",
       "      <th>Date</th>\n",
       "      <th></th>\n",
       "      <th></th>\n",
       "    </tr>\n",
       "  </thead>\n",
       "  <tbody>\n",
       "    <tr>\n",
       "      <th>01-01-1949</th>\n",
       "      <td>112</td>\n",
       "      <td>111.418700</td>\n",
       "    </tr>\n",
       "    <tr>\n",
       "      <th>01-02-1949</th>\n",
       "      <td>118</td>\n",
       "      <td>120.061878</td>\n",
       "    </tr>\n",
       "    <tr>\n",
       "      <th>01-03-1949</th>\n",
       "      <td>132</td>\n",
       "      <td>134.827114</td>\n",
       "    </tr>\n",
       "    <tr>\n",
       "      <th>01-04-1949</th>\n",
       "      <td>129</td>\n",
       "      <td>130.592674</td>\n",
       "    </tr>\n",
       "    <tr>\n",
       "      <th>01-05-1949</th>\n",
       "      <td>121</td>\n",
       "      <td>124.086150</td>\n",
       "    </tr>\n",
       "  </tbody>\n",
       "</table>\n",
       "</div>"
      ],
      "text/plain": [
       "            Passenger    Forecast\n",
       "Date                             \n",
       "01-01-1949        112  111.418700\n",
       "01-02-1949        118  120.061878\n",
       "01-03-1949        132  134.827114\n",
       "01-04-1949        129  130.592674\n",
       "01-05-1949        121  124.086150"
      ]
     },
     "execution_count": 10,
     "metadata": {},
     "output_type": "execute_result"
    }
   ],
   "source": [
    "data2[\"Forecast\"]=model2.fittedvalues\n",
    "data2.head()"
   ]
  },
  {
   "cell_type": "markdown",
   "metadata": {},
   "source": [
    "#### Accuracy of Model"
   ]
  },
  {
   "cell_type": "code",
   "execution_count": 11,
   "metadata": {},
   "outputs": [
    {
     "data": {
      "text/plain": [
       "3.083945963512664"
      ]
     },
     "execution_count": 11,
     "metadata": {},
     "output_type": "execute_result"
    }
   ],
   "source": [
    "mean_absolute_percentage_error = np.mean(np.abs(data2.Passenger - data2.Forecast)/np.abs(data2.Passenger))*100\n",
    "mean_absolute_percentage_error"
   ]
  },
  {
   "cell_type": "markdown",
   "metadata": {},
   "source": [
    "# Finished "
   ]
  }
 ],
 "metadata": {
  "kernelspec": {
   "display_name": "Python 3",
   "language": "python",
   "name": "python3"
  },
  "language_info": {
   "codemirror_mode": {
    "name": "ipython",
    "version": 3
   },
   "file_extension": ".py",
   "mimetype": "text/x-python",
   "name": "python",
   "nbconvert_exporter": "python",
   "pygments_lexer": "ipython3",
   "version": "3.8.5"
  }
 },
 "nbformat": 4,
 "nbformat_minor": 4
}
